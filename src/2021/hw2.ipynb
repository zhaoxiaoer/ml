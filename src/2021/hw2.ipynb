{
  "nbformat": 4,
  "nbformat_minor": 0,
  "metadata": {
    "colab": {
      "name": "hw2.ipynb",
      "provenance": [],
      "mount_file_id": "1Y_ndb_SBvWCbRsii89hENR1_U_jDfzsx",
      "authorship_tag": "ABX9TyPcA97LJ1QAdOhuleHo/H8T",
      "include_colab_link": true
    },
    "kernelspec": {
      "name": "python3",
      "display_name": "Python 3"
    },
    "language_info": {
      "name": "python"
    },
    "accelerator": "GPU"
  },
  "cells": [
    {
      "cell_type": "markdown",
      "metadata": {
        "id": "view-in-github",
        "colab_type": "text"
      },
      "source": [
        "<a href=\"https://colab.research.google.com/github/zhaoxiaoer/ml/blob/main/src/2021/hw2.ipynb\" target=\"_parent\"><img src=\"https://colab.research.google.com/assets/colab-badge.svg\" alt=\"Open In Colab\"/></a>"
      ]
    },
    {
      "cell_type": "markdown",
      "metadata": {
        "id": "GiH8Kl5EUWwW"
      },
      "source": [
        "## Download Data\n",
        "\n",
        "Download data from google drive, then unzip it.\n",
        "\n",
        "You should have `timit_11/train_11.npy`, `timit_11/train_label_11.npy`, and `timit_11/test_11.npy` after running this block.<br><br>\n",
        "\n",
        "`timit_11/`\n",
        "- `train_11.npy`: training data<br>\n",
        "- `train_label_11.npy`: training label<br>\n",
        "- `test_11.npy`: testing data<br><br>"
      ]
    },
    {
      "cell_type": "code",
      "metadata": {
        "colab": {
          "base_uri": "https://localhost:8080/"
        },
        "id": "fCS6mM0xVxiM",
        "outputId": "f863caba-66c0-4f3a-f0df-8e7bf52c56f0"
      },
      "source": [
        "!ls\n",
        "%cd /content/drive/MyDrive/Colab\\ Notebooks/hw2\n",
        "!ls"
      ],
      "execution_count": 1,
      "outputs": [
        {
          "output_type": "stream",
          "text": [
            "drive  sample_data\n",
            "/content/drive/MyDrive/Colab Notebooks/hw2\n",
            "data.zip  hw2.ipynb  model.ckpt  prediction.csv  timit_11\n"
          ],
          "name": "stdout"
        }
      ]
    },
    {
      "cell_type": "code",
      "metadata": {
        "id": "2ETRWPAOYhE2"
      },
      "source": [
        "!gdown --id '1HPkcmQmFGu-3OknddKIa5dNDsR05lIQR' --output data.zip\n",
        "!unzip data.zip\n",
        "!ls"
      ],
      "execution_count": null,
      "outputs": []
    },
    {
      "cell_type": "markdown",
      "metadata": {
        "id": "eYEnzupMXxag"
      },
      "source": [
        "## Preparing Data\n",
        "\n",
        "Load the training and testing data from the `.npy` file (NumPy array)."
      ]
    },
    {
      "cell_type": "code",
      "metadata": {
        "colab": {
          "base_uri": "https://localhost:8080/"
        },
        "id": "MOKFB9vwYmyY",
        "outputId": "42a80360-a518-469a-fad9-4e2a8580372a"
      },
      "source": [
        "import numpy as np\n",
        "\n",
        "print('Loading data ...')\n",
        "\n",
        "data_root = './timit_11/'\n",
        "train = np.load(data_root + 'train_11.npy')\n",
        "train_label = np.load(data_root + 'train_label_11.npy')\n",
        "test = np.load(data_root + 'test_11.npy')\n",
        "\n",
        "print('Size of training data: {}'.format(train.shape))\n",
        "print('Size of training label data: {}'.format(train_label.shape))\n",
        "print('Size of testing data: {}'.format(test.shape))"
      ],
      "execution_count": 2,
      "outputs": [
        {
          "output_type": "stream",
          "text": [
            "Loading data ...\n",
            "Size of training data: (1229932, 429)\n",
            "Size of training label data: (1229932,)\n",
            "Size of testing data: (451552, 429)\n"
          ],
          "name": "stdout"
        }
      ]
    },
    {
      "cell_type": "markdown",
      "metadata": {
        "id": "l6FqFWpbaZ9z"
      },
      "source": [
        "## Create Dataset"
      ]
    },
    {
      "cell_type": "code",
      "metadata": {
        "id": "3kz2cgm-acyD"
      },
      "source": [
        "import torch\n",
        "from torch.utils.data import Dataset\n",
        "\n",
        "class TIMITDataset(Dataset):\n",
        "  def __init__(self, X, y=None):\n",
        "    self.data = torch.from_numpy(X).float()\n",
        "    if y is not None:\n",
        "      y = y.astype(np.int)\n",
        "      self.label = torch.LongTensor(y)\n",
        "    else:\n",
        "      self.label = None\n",
        "  \n",
        "  def __getitem__(self, idx):\n",
        "    if self.label is not None:\n",
        "      return self.data[idx], self.label[idx]\n",
        "    else:\n",
        "      return self.data[idx]\n",
        "  \n",
        "  def __len__(self):\n",
        "    return len(self.data)"
      ],
      "execution_count": 3,
      "outputs": []
    },
    {
      "cell_type": "markdown",
      "metadata": {
        "id": "l_CIaRsLcVip"
      },
      "source": [
        "Split the labeled data into a training set and a validation set, you can modify the variable `VAL_RATIO` to change the ratio of validation data."
      ]
    },
    {
      "cell_type": "code",
      "metadata": {
        "colab": {
          "base_uri": "https://localhost:8080/"
        },
        "id": "us5AqiaAdghL",
        "outputId": "ebbe7be2-255e-4e44-e48b-9a7dbb653440"
      },
      "source": [
        "VAL_RATIO = 0.2\n",
        "\n",
        "percent = int(train.shape[0] * (1 - VAL_RATIO))\n",
        "train_x, train_y, val_x, val_y = train[:percent], train_label[:percent], train[percent:], train_label[percent:]\n",
        "print('Size of training set: {}'.format(train_x.shape))\n",
        "print('Size of validation set: {}'.format(val_x.shape))"
      ],
      "execution_count": 4,
      "outputs": [
        {
          "output_type": "stream",
          "text": [
            "Size of training set: (983945, 429)\n",
            "Size of validation set: (245987, 429)\n"
          ],
          "name": "stdout"
        }
      ]
    },
    {
      "cell_type": "markdown",
      "metadata": {
        "id": "PszDSibjfLlr"
      },
      "source": [
        "Create a data loader from the dataset, feel free to tweak the variable `BATCH_SIZE` here."
      ]
    },
    {
      "cell_type": "code",
      "metadata": {
        "id": "s3kcCFa5fbQI"
      },
      "source": [
        "BATCH_SIZE = 64\n",
        "\n",
        "from torch.utils.data import DataLoader\n",
        "\n",
        "train_set = TIMITDataset(train_x, train_y)\n",
        "val_set = TIMITDataset(val_x, val_y)\n",
        "train_loader = DataLoader(train_set, batch_size=BATCH_SIZE, shuffle=True)  # only shuffle the training data\n",
        "val_loader = DataLoader(val_set, batch_size=BATCH_SIZE, shuffle=False)"
      ],
      "execution_count": 5,
      "outputs": []
    },
    {
      "cell_type": "markdown",
      "metadata": {
        "id": "OqHAFolggU8k"
      },
      "source": [
        "Cleanup the unneeded variables to save memory."
      ]
    },
    {
      "cell_type": "code",
      "metadata": {
        "colab": {
          "base_uri": "https://localhost:8080/"
        },
        "id": "Jhy1kJ75gbw8",
        "outputId": "c48c45d8-9e12-46ab-82d0-608458e96e4e"
      },
      "source": [
        "import gc\n",
        "\n",
        "del train, train_label, train_x, train_y, val_x, val_y\n",
        "gc.collect()"
      ],
      "execution_count": 6,
      "outputs": [
        {
          "output_type": "execute_result",
          "data": {
            "text/plain": [
              "196"
            ]
          },
          "metadata": {
            "tags": []
          },
          "execution_count": 6
        }
      ]
    },
    {
      "cell_type": "markdown",
      "metadata": {
        "id": "aP2xb1WahP6o"
      },
      "source": [
        "## Create Model\n",
        "\n",
        "Define model architecture, you are encouraged to change and experiment with the model architecture."
      ]
    },
    {
      "cell_type": "code",
      "metadata": {
        "id": "JfCOLvbAiHKK"
      },
      "source": [
        "import torch\n",
        "import torch.nn as nn\n",
        "\n",
        "class Classifier(nn.Module):\n",
        "  def __init__(self):\n",
        "    super(Classifier, self).__init__()\n",
        "    self.layer1 = nn.Linear(429, 256)\n",
        "    self.layer2 = nn.Linear(256, 256)\n",
        "    self.layer3 = nn.Linear(256, 128)\n",
        "    self.out = nn.Linear(128, 39)\n",
        "\n",
        "    self.act_fn = nn.Sigmoid()\n",
        "\n",
        "  def forward(self, x):\n",
        "    x = self.layer1(x)\n",
        "    x = self.act_fn(x)\n",
        "\n",
        "    x = self.layer2(x)\n",
        "    x = self.act_fn(x)\n",
        "\n",
        "    x = self.layer3(x)\n",
        "    x = self.act_fn(x)\n",
        "\n",
        "    x = self.out(x)\n",
        "\n",
        "    return x"
      ],
      "execution_count": 7,
      "outputs": []
    },
    {
      "cell_type": "markdown",
      "metadata": {
        "id": "L6duE_oOkEdT"
      },
      "source": [
        "## Training"
      ]
    },
    {
      "cell_type": "code",
      "metadata": {
        "id": "xkbyfxc7kGYK"
      },
      "source": [
        "# check device\n",
        "def get_device():\n",
        "  return 'cuda' if torch.cuda.is_available() else 'cpu'"
      ],
      "execution_count": 8,
      "outputs": []
    },
    {
      "cell_type": "markdown",
      "metadata": {
        "id": "uKdMA75pkT9a"
      },
      "source": [
        "Fix random seeds for reproducibility."
      ]
    },
    {
      "cell_type": "code",
      "metadata": {
        "id": "QK3RHjgIkYv7"
      },
      "source": [
        "def same_seeds(seed):\n",
        "  torch.manual_seed(seed)\n",
        "  if torch.cuda.is_available():\n",
        "    torch.cuda.manual_seed(seed)\n",
        "    torch.cuda.manual_seed_all(seed)\n",
        "  np.random.seed(seed)\n",
        "  torch.backends.cudnn.benchmark = False\n",
        "  torch.backends.cudnn.deterministic = True"
      ],
      "execution_count": 9,
      "outputs": []
    },
    {
      "cell_type": "markdown",
      "metadata": {
        "id": "g-FzOdYMk4hQ"
      },
      "source": [
        "Feel free to change the training parameters here."
      ]
    },
    {
      "cell_type": "code",
      "metadata": {
        "colab": {
          "base_uri": "https://localhost:8080/"
        },
        "id": "y7V9fFwWlBTT",
        "outputId": "c63543d8-d48b-4286-933b-4b990f938a72"
      },
      "source": [
        "# fix random seed for reproducibility\n",
        "same_seeds(0)\n",
        "\n",
        "# get device\n",
        "device = get_device()\n",
        "print(f'Device: {device}')\n",
        "\n",
        "# training parameters\n",
        "num_epoch = 20          # number of training epoch\n",
        "learning_rate = 0.0001  # learning rate\n",
        "\n",
        "# the path where checkpoint saved\n",
        "model_path = './model.ckpt'\n",
        "\n",
        "# create model, define a loss function\n",
        "model = Classifier().to(device)\n",
        "criterion = nn.CrossEntropyLoss()\n",
        "optimizer = torch.optim.Adam(model.parameters(), lr=learning_rate)"
      ],
      "execution_count": 10,
      "outputs": [
        {
          "output_type": "stream",
          "text": [
            "Device: cuda\n"
          ],
          "name": "stdout"
        }
      ]
    },
    {
      "cell_type": "code",
      "metadata": {
        "colab": {
          "base_uri": "https://localhost:8080/"
        },
        "id": "8P9g6_3dmgh1",
        "outputId": "a66a88ca-474a-4cbf-fb04-abedfb586b89"
      },
      "source": [
        "# start training\n",
        "best_acc = 0.0\n",
        "for epoch in range(num_epoch):\n",
        "  train_acc = 0.0\n",
        "  train_loss = 0.0\n",
        "  val_acc = 0.0\n",
        "  val_loss = 0.0\n",
        "\n",
        "  # training\n",
        "  model.train()  # set the model to training mode\n",
        "  for i, data in enumerate(train_loader):\n",
        "    inputs, labels = data\n",
        "    inputs, labels = inputs.to(device), labels.to(device)\n",
        "    optimizer.zero_grad()\n",
        "    outputs = model(inputs)\n",
        "    batch_loss = criterion(outputs, labels)\n",
        "    _, train_pred = torch.max(outputs, 1)  # get the index of the class with the highest probability\n",
        "    batch_loss.backward()\n",
        "    optimizer.step()\n",
        "\n",
        "    train_acc += (train_pred.cpu() == labels.cpu()).sum().item()\n",
        "    train_loss += batch_loss.item()\n",
        "  \n",
        "  # validation\n",
        "  if len(val_set) > 0:\n",
        "    model.eval()  # set the model to evaluation mode\n",
        "    with torch.no_grad():\n",
        "      for i, data in enumerate(val_loader):\n",
        "        inputs, labels = data\n",
        "        inputs, labels = inputs.to(device), labels.to(device)\n",
        "        outputs = model(inputs)\n",
        "        batch_loss = criterion(outputs, labels)\n",
        "        _, val_pred = torch.max(outputs, 1)\n",
        "\n",
        "        val_acc += (val_pred.cpu() == labels.cpu()).sum().item()\n",
        "        val_loss += batch_loss.item()\n",
        "\n",
        "      print('[{:03d}/{:03d}] Train Acc: {:3.6f} Loss: {:3.6f} | Val Acc: {:3.6f} Loss: {:3.6f}'.format(\n",
        "          epoch + 1, num_epoch, train_acc/len(train_set), train_loss/len(train_loader), val_acc/len(val_set), val_loss/len(val_loader)\n",
        "      ))\n",
        "\n",
        "      # if the model improves, save a checkpoint at this epoch\n",
        "      if val_acc > best_acc:\n",
        "        best_acc = val_acc\n",
        "        torch.save(model.state_dict(), model_path)\n",
        "        print('saving model with acc {:.3f}'.format(best_acc/len(val_set)))\n",
        "      \n",
        "  else:\n",
        "    print('[{:03d}/{:03d}] Train Acc: {:3.6f} Loss: {:3.6f}'.format(\n",
        "        epoch + 1, num_epoch, train_acc/len(train_set), train_loss/len(train_loader)\n",
        "    ))\n",
        "\n",
        "# if not validating, save the last epoch\n",
        "if len(val_set) == 0:\n",
        "  torch.save(model.state_dict(), model_path)\n",
        "  print('saving model at last epoch')\n"
      ],
      "execution_count": 12,
      "outputs": [
        {
          "output_type": "stream",
          "text": [
            "[001/020] Train Acc: 0.703412 Loss: 0.924920 | Val Acc: 0.688093 Loss: 0.974711\n",
            "saving model with acc 0.688\n",
            "[002/020] Train Acc: 0.705346 Loss: 0.916892 | Val Acc: 0.689740 Loss: 0.967999\n",
            "saving model with acc 0.690\n",
            "[003/020] Train Acc: 0.707399 Loss: 0.909380 | Val Acc: 0.691097 Loss: 0.963424\n",
            "saving model with acc 0.691\n",
            "[004/020] Train Acc: 0.709388 Loss: 0.902450 | Val Acc: 0.692130 Loss: 0.960527\n",
            "saving model with acc 0.692\n",
            "[005/020] Train Acc: 0.711562 Loss: 0.895545 | Val Acc: 0.693313 Loss: 0.955606\n",
            "saving model with acc 0.693\n",
            "[006/020] Train Acc: 0.713093 Loss: 0.889330 | Val Acc: 0.694935 Loss: 0.950338\n",
            "saving model with acc 0.695\n",
            "[007/020] Train Acc: 0.714841 Loss: 0.883140 | Val Acc: 0.694585 Loss: 0.949040\n",
            "[008/020] Train Acc: 0.716455 Loss: 0.877309 | Val Acc: 0.695533 Loss: 0.946436\n",
            "saving model with acc 0.696\n",
            "[009/020] Train Acc: 0.717776 Loss: 0.872028 | Val Acc: 0.696854 Loss: 0.941757\n",
            "saving model with acc 0.697\n",
            "[010/020] Train Acc: 0.719231 Loss: 0.866459 | Val Acc: 0.697789 Loss: 0.940284\n",
            "saving model with acc 0.698\n",
            "[011/020] Train Acc: 0.721063 Loss: 0.861419 | Val Acc: 0.698183 Loss: 0.940007\n",
            "saving model with acc 0.698\n",
            "[012/020] Train Acc: 0.721904 Loss: 0.856652 | Val Acc: 0.699423 Loss: 0.933319\n",
            "saving model with acc 0.699\n",
            "[013/020] Train Acc: 0.723670 Loss: 0.851589 | Val Acc: 0.698017 Loss: 0.936276\n",
            "[014/020] Train Acc: 0.724872 Loss: 0.847023 | Val Acc: 0.699167 Loss: 0.932525\n",
            "[015/020] Train Acc: 0.726231 Loss: 0.842571 | Val Acc: 0.699663 Loss: 0.930916\n",
            "saving model with acc 0.700\n",
            "[016/020] Train Acc: 0.727395 Loss: 0.838311 | Val Acc: 0.698594 Loss: 0.933445\n",
            "[017/020] Train Acc: 0.728751 Loss: 0.834151 | Val Acc: 0.700679 Loss: 0.926836\n",
            "saving model with acc 0.701\n",
            "[018/020] Train Acc: 0.729991 Loss: 0.830087 | Val Acc: 0.701814 Loss: 0.924940\n",
            "saving model with acc 0.702\n",
            "[019/020] Train Acc: 0.730811 Loss: 0.826202 | Val Acc: 0.702903 Loss: 0.922054\n",
            "saving model with acc 0.703\n",
            "[020/020] Train Acc: 0.731739 Loss: 0.822629 | Val Acc: 0.701858 Loss: 0.926777\n"
          ],
          "name": "stdout"
        }
      ]
    },
    {
      "cell_type": "markdown",
      "metadata": {
        "id": "-taR_jQx-tPs"
      },
      "source": [
        "## Testing\n",
        "\n",
        "Create a testing dataset, and load model from the saved checkpoint."
      ]
    },
    {
      "cell_type": "code",
      "metadata": {
        "colab": {
          "base_uri": "https://localhost:8080/"
        },
        "id": "KZznSHhv-1d5",
        "outputId": "62e5da67-a4d6-4968-96f8-42aecf6663c1"
      },
      "source": [
        "# create testing dataset\n",
        "test_set = TIMITDataset(test, None)\n",
        "test_loader = DataLoader(test_set, batch_size=BATCH_SIZE, shuffle=False)\n",
        "\n",
        "# create model and load weights from checkpoint\n",
        "model = Classifier().to(device)\n",
        "model.load_state_dict(torch.load(model_path))"
      ],
      "execution_count": 13,
      "outputs": [
        {
          "output_type": "execute_result",
          "data": {
            "text/plain": [
              "<All keys matched successfully>"
            ]
          },
          "metadata": {
            "tags": []
          },
          "execution_count": 13
        }
      ]
    },
    {
      "cell_type": "markdown",
      "metadata": {
        "id": "bEXm_P9g_Unc"
      },
      "source": [
        "Make prediction"
      ]
    },
    {
      "cell_type": "code",
      "metadata": {
        "id": "AhBywU79_W2Q"
      },
      "source": [
        "predict = []\n",
        "model.eval()  # set the model to evaluation mode\n",
        "with torch.no_grad():\n",
        "  for i, data in enumerate(test_loader):\n",
        "    inputs = data\n",
        "    inputs = inputs.to(device)\n",
        "    outputs = model(inputs)\n",
        "    _, test_pred = torch.max(outputs, 1)\n",
        "\n",
        "    for y in test_pred.cpu().numpy():\n",
        "      predict.append(y)"
      ],
      "execution_count": 14,
      "outputs": []
    },
    {
      "cell_type": "markdown",
      "metadata": {
        "id": "m_YE9Pvs_5dp"
      },
      "source": [
        "Write prediction to a CSV file.\n",
        "\n",
        "After finish running this block, download the file `prediction.csv` from the files section on the left-hand side and submit it to Kaggle."
      ]
    },
    {
      "cell_type": "code",
      "metadata": {
        "id": "cZqVptA_AQbo"
      },
      "source": [
        "with open('prediction.csv', 'w') as f:\n",
        "  f.write('Id,Class\\n')\n",
        "  for i, y in enumerate(predict):\n",
        "    f.write('{},{}\\n'.format(i, y))"
      ],
      "execution_count": 15,
      "outputs": []
    }
  ]
}