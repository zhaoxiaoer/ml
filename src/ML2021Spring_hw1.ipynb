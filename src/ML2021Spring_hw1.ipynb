{
  "nbformat": 4,
  "nbformat_minor": 0,
  "metadata": {
    "colab": {
      "name": "ML2021Spring_hw1.ipynb",
      "provenance": [],
      "toc_visible": true,
      "mount_file_id": "1RUo9-z5N56i-SQIKNOA5YPiZrkl0f8B-",
      "authorship_tag": "ABX9TyOEhQDnQFZbj00QQJU1W37p",
      "include_colab_link": true
    },
    "kernelspec": {
      "name": "python3",
      "display_name": "Python 3"
    },
    "language_info": {
      "name": "python"
    },
    "accelerator": "GPU"
  },
  "cells": [
    {
      "cell_type": "markdown",
      "metadata": {
        "id": "view-in-github",
        "colab_type": "text"
      },
      "source": [
        "<a href=\"https://colab.research.google.com/github/zhaoxiaoer/ml/blob/main/src/ML2021Spring_hw1.ipynb\" target=\"_parent\"><img src=\"https://colab.research.google.com/assets/colab-badge.svg\" alt=\"Open In Colab\"/></a>"
      ]
    },
    {
      "cell_type": "markdown",
      "metadata": {
        "id": "eaNpl6h3m0Qx"
      },
      "source": [
        "**Homework 1**"
      ]
    },
    {
      "cell_type": "code",
      "metadata": {
        "colab": {
          "base_uri": "https://localhost:8080/"
        },
        "id": "h2GvmyHB5lR1",
        "outputId": "4d3484ae-24c5-4615-b665-72e2e30850a5"
      },
      "source": [
        "!ls\n",
        "%cd /content/drive/MyDrive/Colab\\ Notebooks\n",
        "!ls"
      ],
      "execution_count": 1,
      "outputs": [
        {
          "output_type": "stream",
          "text": [
            "drive  sample_data\n",
            "/content/drive/MyDrive/Colab Notebooks\n",
            "colabtest.ipynb  covid.train.csv\t pytorch_tutorial.ipynb\n",
            "covid.test.csv\t ML2021Spring_hw1.ipynb\n"
          ],
          "name": "stdout"
        }
      ]
    },
    {
      "cell_type": "markdown",
      "metadata": {
        "id": "LbxEKuXWjstJ"
      },
      "source": [
        "# **Download Data**"
      ]
    },
    {
      "cell_type": "code",
      "metadata": {
        "id": "tlcY-Rjgbv-f"
      },
      "source": [
        "tr_path = 'covid.train.csv'  # path to training data\n",
        "tt_path = 'covid.test.csv'   # path to testing data\n",
        "\n",
        "# !gdown --id '19CCyCgJrUxtvgZF53vnctJiOJ23T5mqF' --output covid.train.csv\n",
        "# !gdown --id '1CE240jLm2npU-tdz81-oVKEF3T2yfT1O' --output covid.test.csv"
      ],
      "execution_count": 9,
      "outputs": []
    },
    {
      "cell_type": "markdown",
      "metadata": {
        "id": "RnDc_IBTj4ll"
      },
      "source": [
        "# **Import Some Packages**"
      ]
    },
    {
      "cell_type": "code",
      "metadata": {
        "id": "R2BEK35pkFwe"
      },
      "source": [
        "# PyTorch\n",
        "import torch\n",
        "import torch.nn as nn\n",
        "from torch.utils.data import Dataset, DataLoader\n",
        "\n",
        "# For data preprocess\n",
        "import numpy as np\n",
        "import csv\n",
        "import os\n",
        "\n",
        "# For plotting\n",
        "import matplotlib.pyplot as plt\n",
        "from matplotlib.pyplot import figure\n",
        "\n",
        "myseed = 42069  # set a random seed for reproducibility\n",
        "torch.backends.cudnn.deterministic = True\n",
        "torch.backends.cudnn.benchmark = False\n",
        "np.random.seed(myseed)\n",
        "torch.manual_seed(myseed)\n",
        "if torch.cuda.is_available():\n",
        "  torch.cuda.manual_seed_all(myseed)"
      ],
      "execution_count": 2,
      "outputs": []
    },
    {
      "cell_type": "markdown",
      "metadata": {
        "id": "ElIlJy0-mZhB"
      },
      "source": [
        "# **Some Utilities**"
      ]
    },
    {
      "cell_type": "code",
      "metadata": {
        "id": "2fae0PUamm0V"
      },
      "source": [
        "def get_device():\n",
        "  ''' Get device (if GPU is available, use GPU) '''\n",
        "  return 'cuda' if torch.cuda.is_available() else 'cpu'\n",
        "\n",
        "def plot_learning_curve(loss_record, title=''):\n",
        "  ''' Plot learning curve of your DNN (train & dev loss) '''\n",
        "  total_steps = len(loss_record['train'])\n",
        "  x_1 = range(total_steps)\n",
        "  x_2 = x_1[::len(loss_record['train']) // len(loss_record['dev'])]\n",
        "  figure(figsize=(6, 4))\n",
        "  plt.plot(x_1, loss_record['train'], c='tab:red', label='train')\n",
        "  plt.plot(x_2, loss_record['dev'], c='tab:cyan', label='dev')\n",
        "  plt.ylim(0.0, 5.)\n",
        "  plt.xlabel('Training steps')\n",
        "  plt.ylabel('MSE loss')\n",
        "  plt.title('Learning curve of {}'.format(title))\n",
        "  plt.legend()\n",
        "  plt.show()\n",
        "\n",
        "def plot_pred(dv_set, model, device, lim=35.,preds=None, targets=None):\n",
        "  ''' Plot prediction of your DNN '''\n",
        "  if preds is None or targets is None:\n",
        "    model.eval()\n",
        "    preds, targets = [], []\n",
        "    for x, y in dv_set:\n",
        "      x, y = x.to(device), y.to(device)\n",
        "      with torch.no_grad():\n",
        "        pred = model(x)\n",
        "        preds.append(pred.detach().cpu())\n",
        "        targets.append(y.detach().cpu())\n",
        "        # print(pred)\n",
        "        # print(y)\n",
        "      preds = torch.cat(preds, dim=0).numpy()\n",
        "      targets = torch.cat(targets, dim=0).numpy()\n",
        "    \n",
        "    figure(figsize=(5, 5))\n",
        "    plt.scatter(targets, preds, c='r', alpha=0.5)\n",
        "    plt.plot([-0.2, lim], [-0.2, lim], c='b')\n",
        "    plt.xlim(-0.2, lim)\n",
        "    plt.ylim(-0.2, lim)\n",
        "    plt.xlabel('ground truth value')\n",
        "    plt.ylabel('predicted value')\n",
        "    plt.title('Ground Truth v.s. Prediction')\n",
        "    plt.show()"
      ],
      "execution_count": 61,
      "outputs": []
    },
    {
      "cell_type": "markdown",
      "metadata": {
        "id": "iesXEa0bx03E"
      },
      "source": [
        "# **Preprocess**\n",
        "\n",
        "We have three kinds of datasets:\n",
        "* `train`: for training\n",
        "* `dev`: for validation\n",
        "* `test`: for testing(w/o target value)\n",
        "\n"
      ]
    },
    {
      "cell_type": "markdown",
      "metadata": {
        "id": "kVQS8YdPy7Yd"
      },
      "source": [
        "## **Dataset**\n",
        "\n",
        "The COVID19Dataset below does:\n",
        "* read `.csv` files\n",
        "* extract features\n",
        "* split `covid.train.csv` into train/dev sets\n",
        "* normalize features"
      ]
    },
    {
      "cell_type": "code",
      "metadata": {
        "id": "9OcYP7Ow1N1L"
      },
      "source": [
        "class COVID19Dataset(Dataset):\n",
        "  ''' Dataset for loading and preprocessing the COVID19 dataset '''\n",
        "  def __init__(self,\n",
        "               path,\n",
        "               mode='train',\n",
        "               target_only=False):\n",
        "    self.mode = mode\n",
        "\n",
        "    # Read data into numpy arrays\n",
        "    with open(path, 'r') as fp:\n",
        "      data = list(csv.reader(fp))\n",
        "      data = np.array(data[1:])[:, 1:].astype(float)\n",
        "    \n",
        "    if not target_only:\n",
        "      feats = list(range(93))\n",
        "    else:\n",
        "      # TODO: Using 40 states & 2 tested_positive features (indices = 57 & 75)\n",
        "      # pass\n",
        "      feats = list(range(40))\n",
        "      feats = feats + [57, 75]\n",
        "    \n",
        "    if mode == 'test':\n",
        "      # Testing data\n",
        "      # data: 893 x 93 (40 states + day 1 (18) + day 2(18) + day 3 (17))\n",
        "      data = data[:, feats]\n",
        "      self.data = torch.FloatTensor(data)\n",
        "    else:\n",
        "      # Training data (train/dev sets)\n",
        "      # data: 2700 x 94 (40 states + day 1 (18) + day 2 (18) + day 3 (18))\n",
        "      target = data[:, -1]\n",
        "      data = data[:, feats]\n",
        "\n",
        "      # Splitting training data into train & dev sets\n",
        "      if mode == 'train':\n",
        "        indics = [i for i in range(len(data)) if i % 10 != 0]\n",
        "      elif mode == 'dev':\n",
        "        indics = [i for i in range(len(data)) if i % 10 == 0]\n",
        "      \n",
        "      # Convert data into PyTorch tensors\n",
        "      self.data = torch.FloatTensor(data[indics])\n",
        "      self.target = torch.FloatTensor(target[indics])\n",
        "\n",
        "    # Normalize features (you may remove this part to see what will happen)\n",
        "    self.data[:, 40:] = \\\n",
        "        (self.data[:, 40:] - self.data[:, 40:].mean(dim=0, keepdim=True)) \\\n",
        "        / self.data[:, 40:].std(dim=0, keepdim=True)\n",
        "    \n",
        "    self.dim = self.data.shape[1]\n",
        "\n",
        "    print('Finished reading the {} set of COVID19 Dataset ({} samples found, each dim = {})'\n",
        "          .format(mode, len(self.data), self.dim))\n",
        "  \n",
        "  def __getitem__(self, index):\n",
        "    # Returns one sample at a time\n",
        "    if self.mode in ['train', 'dev']:\n",
        "      # For training\n",
        "      return self.data[index], self.target[index]\n",
        "    else:\n",
        "      # For testing (no target)\n",
        "      return self.data[index]\n",
        "  \n",
        "  def __len__(self):\n",
        "    # Returns the size of the dataset\n",
        "    return len(self.data)"
      ],
      "execution_count": 16,
      "outputs": []
    },
    {
      "cell_type": "code",
      "metadata": {
        "id": "PwJCGHsUQbKj"
      },
      "source": [
        "# test\n",
        "dataset = COVID19Dataset('./covid.train.csv', 'dev')\n",
        "print(dataset.data)"
      ],
      "execution_count": null,
      "outputs": []
    },
    {
      "cell_type": "markdown",
      "metadata": {
        "id": "w2DkLZ0aO3cz"
      },
      "source": [
        "## **DataLoader**\n",
        "\n",
        "A DataLoader loads data from a given Dataset into batches."
      ]
    },
    {
      "cell_type": "code",
      "metadata": {
        "id": "D2rZ_aaZPK-Y"
      },
      "source": [
        "def prep_dataloader(path, mode, batch_size, n_jobs=0, target_only=False):\n",
        "  ''' Generates a dataset, then is put into a dataloader '''\n",
        "  dataset = COVID19Dataset(path, mode, target_only=target_only)\n",
        "  dataloader = DataLoader(\n",
        "      dataset, batch_size,\n",
        "      shuffle=(mode=='train'), drop_last=False,\n",
        "      num_workers=n_jobs, pin_memory=True\n",
        "  )\n",
        "  return dataloader"
      ],
      "execution_count": 17,
      "outputs": []
    },
    {
      "cell_type": "markdown",
      "metadata": {
        "id": "phTlg6AGRsP2"
      },
      "source": [
        "# **Deep Neural Network**\n",
        "\n",
        "NeuralNet is an nn.Module designed for regression. The DNN consists of 2 fully-connected layers with ReLU activation. This module also included a function cal_loss for calculating loss."
      ]
    },
    {
      "cell_type": "code",
      "metadata": {
        "id": "HObiT7naS45h"
      },
      "source": [
        "class NeuralNet(nn.Module):\n",
        "  ''' A simple fully-connected deep neural network '''\n",
        "  def __init__(self, input_dim):\n",
        "    super(NeuralNet, self).__init__()\n",
        "\n",
        "    # Define your neural network here\n",
        "    # TODO: How to modify this model to achieve better performance?\n",
        "    self.net = nn.Sequential(\n",
        "        nn.Linear(input_dim, 64),\n",
        "        nn.ReLU(),\n",
        "        nn.Linear(64, 1)\n",
        "    )\n",
        "\n",
        "    # Mean squared error loss\n",
        "    self.criterion = nn.MSELoss(reduction='mean')\n",
        "\n",
        "  def forward(self, x):\n",
        "    ''' Given input of size (batch_size x input_dim), compute output of the network '''\n",
        "    return self.net(x).squeeze(1)\n",
        "  \n",
        "  def cal_loss(self, pred, target):\n",
        "    ''' Calculate loss '''\n",
        "    # TODO: you may implement L1/L2 regularization here\n",
        "    return self.criterion(pred, target)"
      ],
      "execution_count": 6,
      "outputs": []
    },
    {
      "cell_type": "markdown",
      "metadata": {
        "id": "tnJoCq-pa18P"
      },
      "source": [
        "# **Train/Dev/Test**\n",
        "\n",
        "## **Training**"
      ]
    },
    {
      "cell_type": "code",
      "metadata": {
        "id": "2-Fay59GbUM9"
      },
      "source": [
        "def train(tr_set, dv_set, model, config, device):\n",
        "  ''' DNN training '''\n",
        "  n_epochs = config['n_epochs']  # Maximum number of epochs\n",
        "\n",
        "  # Setup optimizer\n",
        "  optimizer = getattr(torch.optim, config['optimizer'])(\n",
        "      model.parameters(), **config['optim_hparas']\n",
        "  )\n",
        "\n",
        "  min_mse = 1000.\n",
        "  loss_record = {'train': [], 'dev': []}  # for recording training loss\n",
        "  early_stop_cnt = 0\n",
        "  epoch = 0\n",
        "  while epoch < n_epochs:\n",
        "    model.train()                # set model to training mode\n",
        "    for x, y in tr_set:          # iterate through the dataloader\n",
        "      optimizer.zero_grad()      # set gradient to zero\n",
        "      x, y = x.to(device), y.to(device)  # move data to device (cpu/cuda)\n",
        "      pred = model(x)            # forward pass (compute output)\n",
        "      mse_loss = model.cal_loss(pred, y)  # compute loss\n",
        "      mse_loss.backward()        # compute gradient (backpropagation)\n",
        "      optimizer.step()           # update model with optimizer\n",
        "      loss_record['train'].append(mse_loss.detach().cpu().item())\n",
        "    \n",
        "    # After each epoch, test your model on the validation (development) set.\n",
        "    dev_mse = dev(dv_set, model, device)\n",
        "    if dev_mse < min_mse:\n",
        "      # Save model if your model improved\n",
        "      min_mse = dev_mse\n",
        "      print('Saving model (epoch = {:4d}, loss = {:.4f})'\n",
        "            .format(epoch + 1, min_mse))\n",
        "      torch.save(model.state_dict(), config['save_path'])  # save model to specified path\n",
        "      early_stop_cnt = 0\n",
        "    else:\n",
        "      early_stop_cnt += 1\n",
        "    \n",
        "    epoch += 1\n",
        "    loss_record['dev'].append(dev_mse)\n",
        "    if early_stop_cnt > config['early_stop']:\n",
        "      # Stop training if your model stops improving for \"config['early_stop']\" epochs.\n",
        "      break\n",
        "    \n",
        "  print('Finished training after {} epochs'.format(epoch))\n",
        "  return min_mse, loss_record"
      ],
      "execution_count": 25,
      "outputs": []
    },
    {
      "cell_type": "markdown",
      "metadata": {
        "id": "oZhXtw-73dNw"
      },
      "source": [
        "## **Validation**"
      ]
    },
    {
      "cell_type": "code",
      "metadata": {
        "id": "WQTHLLVn3hS6"
      },
      "source": [
        "def dev(dv_set, model, device):\n",
        "  model.eval()  # set model to evalutation mode\n",
        "  total_loss = 0\n",
        "  for x, y in dv_set:  # iterate through the dataloader\n",
        "    x, y = x.to(device), y.to(device)  # move data to device (cpu/cuda)\n",
        "    with torch.no_grad():  # disable gradient calculation\n",
        "      pred = model(x)  # forward pass (compute output)\n",
        "      mse_loss = model.cal_loss(pred, y)  # compute loss\n",
        "    total_loss += mse_loss.detach().cpu().item() * len(x)  # accumulate loss\n",
        "  total_loss = total_loss / len(dv_set.dataset)  # compute averaged loss\n",
        "\n",
        "  return total_loss"
      ],
      "execution_count": 27,
      "outputs": []
    },
    {
      "cell_type": "markdown",
      "metadata": {
        "id": "Ogv_m6q3CsAy"
      },
      "source": [
        "## **Testing**"
      ]
    },
    {
      "cell_type": "code",
      "metadata": {
        "id": "PPGy-4hrCuR0"
      },
      "source": [
        "def test(tt_set, model, device):\n",
        "  model.eval()                           # set model to evalutation mode\n",
        "  preds = []\n",
        "  for x in tt_set:                       # iterate through the dataloader\n",
        "    x = x.to(device)                     # move data to device (cpu/cuda)\n",
        "    with torch.no_grad():                # disable gradient calculation\n",
        "      pred = model(x)                    # forward pass (compute output)\n",
        "      # print(pred)\n",
        "      preds.append(pred.detach().cpu())  # collect prediction\n",
        "  preds = torch.cat(preds, dim=0).numpy()  # concatenate all predictions and convert to a numpy array\n",
        "  return preds\n"
      ],
      "execution_count": 82,
      "outputs": []
    },
    {
      "cell_type": "markdown",
      "metadata": {
        "id": "lUicRCr7Elpv"
      },
      "source": [
        "# **Setup Hyper-parameters**\n",
        "\n",
        "`config` contains hyper-parameters for training and the path to save your model."
      ]
    },
    {
      "cell_type": "code",
      "metadata": {
        "id": "hK9LrahIj9O-"
      },
      "source": [
        "device = get_device()  # get the current available device ('cpu' or 'cuda')\n",
        "os.makedirs('models', exist_ok=True)  # The trained model will be saved to ./models/\n",
        "target_only = False    # TODO: Using 40 states & 2 tested_positive features\n",
        "\n",
        "# TODO: How to tune these hyper-parameters to improve your model's performance?\n",
        "config = {\n",
        "    'n_epochs': 3000,      # maximum number of epochs\n",
        "    'batch_size': 64,     # mini-batch size for dataloader\n",
        "    'optimizer': 'SGD',    # optimization algorithm (optimizer in torch.optim)\n",
        "    'optim_hparas': {      # hyper-parameters for the optimizer (depends on which optimizer you are using)\n",
        "        'lr': 0.001,       # learning rate of SGD\n",
        "        'momentum': 0.9    # momentum for SGD\n",
        "    },\n",
        "    'early_stop': 200,     # early stopping epochs (the number epochs since your model's last improvement)\n",
        "    'save_path': 'models/model.pth'  # your model will be saved here\n",
        "}"
      ],
      "execution_count": 75,
      "outputs": []
    },
    {
      "cell_type": "markdown",
      "metadata": {
        "id": "WCu6yOdmqMv6"
      },
      "source": [
        "# **Load data and model**"
      ]
    },
    {
      "cell_type": "code",
      "metadata": {
        "colab": {
          "base_uri": "https://localhost:8080/"
        },
        "id": "V7AIBL28qRLP",
        "outputId": "c3b49658-9509-4b00-e580-021930a1fe45"
      },
      "source": [
        "tr_set = prep_dataloader(tr_path, 'train', config['batch_size'], target_only=target_only)\n",
        "dv_set = prep_dataloader(tr_path, 'dev', config['batch_size'], target_only=target_only)\n",
        "tt_set = prep_dataloader(tt_path, 'test', config['batch_size'], target_only=target_only)"
      ],
      "execution_count": 76,
      "outputs": [
        {
          "output_type": "stream",
          "text": [
            "Finished reading the train set of COVID19 Dataset (2430 samples found, each dim = 93)\n",
            "Finished reading the dev set of COVID19 Dataset (270 samples found, each dim = 93)\n",
            "Finished reading the test set of COVID19 Dataset (893 samples found, each dim = 93)\n"
          ],
          "name": "stdout"
        }
      ]
    },
    {
      "cell_type": "code",
      "metadata": {
        "id": "tOGAv5hHt_6_"
      },
      "source": [
        "model = NeuralNet(tr_set.dataset.dim).to(device)"
      ],
      "execution_count": 21,
      "outputs": []
    },
    {
      "cell_type": "markdown",
      "metadata": {
        "id": "a8Q3wjnIubyd"
      },
      "source": [
        "# **Start Training!**"
      ]
    },
    {
      "cell_type": "code",
      "metadata": {
        "colab": {
          "base_uri": "https://localhost:8080/"
        },
        "id": "LNTAYtwsuflX",
        "outputId": "4eaefa78-40bf-4b76-852d-ba6293e973bc"
      },
      "source": [
        "model_loss, model_loss_record = train(tr_set, dv_set, model, config, device)"
      ],
      "execution_count": 77,
      "outputs": [
        {
          "output_type": "stream",
          "text": [
            "Saving model (epoch =    1, loss = 0.7695)\n",
            "Saving model (epoch =   89, loss = 0.7649)\n",
            "Saving model (epoch =  118, loss = 0.7589)\n",
            "Finished training after 319 epochs\n"
          ],
          "name": "stdout"
        }
      ]
    },
    {
      "cell_type": "code",
      "metadata": {
        "colab": {
          "base_uri": "https://localhost:8080/"
        },
        "id": "aba9sBGev1KA",
        "outputId": "789d8e45-5df5-4c2f-aae5-642cdec6db5f"
      },
      "source": [
        "print(model_loss)\n",
        "print(len(model_loss_record['train']))\n",
        "print(len(model_loss_record['dev']))"
      ],
      "execution_count": 79,
      "outputs": [
        {
          "output_type": "stream",
          "text": [
            "0.75886278991346\n",
            "12122\n",
            "319\n"
          ],
          "name": "stdout"
        }
      ]
    },
    {
      "cell_type": "code",
      "metadata": {
        "colab": {
          "base_uri": "https://localhost:8080/",
          "height": 295
        },
        "id": "AfZhZQaBxH8v",
        "outputId": "2c93bde0-9016-46bc-f89f-b9568467e495"
      },
      "source": [
        "plot_learning_curve(model_loss_record, title='deep model')"
      ],
      "execution_count": 80,
      "outputs": [
        {
          "output_type": "display_data",
          "data": {
            "image/png": "[encoded data removed]",
            "text/plain": [
              "<Figure size 432x288 with 1 Axes>"
            ]
          },
          "metadata": {
            "tags": [],
            "needs_background": "light"
          }
        }
      ]
    },
    {
      "cell_type": "code",
      "metadata": {
        "colab": {
          "base_uri": "https://localhost:8080/",
          "height": 350
        },
        "id": "C-tdVt6A-4rd",
        "outputId": "ef1dd866-1ce2-4695-edaa-b5fffb33cc17"
      },
      "source": [
        "model2 = NeuralNet(tr_set.dataset.dim).to(device)\n",
        "ckpt = torch.load(config['save_path'], map_location='cpu')  # Load your best model\n",
        "model2.load_state_dict(ckpt)\n",
        "plot_pred(dv_set, model2, device)  # Show prediction on the validation set"
      ],
      "execution_count": 71,
      "outputs": [
        {
          "output_type": "display_data",
          "data": {
            "image/png": "[encoded data removed]",
            "text/plain": [
              "<Figure size 360x360 with 1 Axes>"
            ]
          },
          "metadata": {
            "tags": [],
            "needs_background": "light"
          }
        }
      ]
    },
    {
      "cell_type": "markdown",
      "metadata": {
        "id": "Evkw1YTHBed6"
      },
      "source": [
        "# **Testing**\n",
        "\n",
        "The predictions of your model on testing set will be stored at `pred.csv`."
      ]
    },
    {
      "cell_type": "code",
      "metadata": {
        "colab": {
          "base_uri": "https://localhost:8080/"
        },
        "id": "0lyZvzHIBxPp",
        "outputId": "9816e959-7813-4f42-b1e1-dbe7eedc7652"
      },
      "source": [
        "def save_pred(preds, file):\n",
        "  ''' Save predictions to specified file '''\n",
        "  print('Saving results to {}'.format(file))\n",
        "  with open(file, 'w') as fp:\n",
        "    writer = csv.writer(fp)\n",
        "    writer.writerow(['id', 'tested_positive'])\n",
        "    for i, p in enumerate(preds):\n",
        "      writer.writerow([i, p])\n",
        "\n",
        "preds = test(tt_set, model2, device)  # predict COVID-19 cases with your model\n",
        "save_pred(preds, 'pred.csv')          # save prediction file to pred.csv"
      ],
      "execution_count": 83,
      "outputs": [
        {
          "output_type": "stream",
          "text": [
            "Saving results to pred.csv\n"
          ],
          "name": "stdout"
        }
      ]
    }
  ]
}